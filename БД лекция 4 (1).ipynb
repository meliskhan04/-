{
 "cells": [
  {
   "cell_type": "markdown",
   "id": "15b4a5b7-a4e9-4765-b93c-9730f1c2dddd",
   "metadata": {},
   "source": [
    "1. Хранимые процедуры\r\n",
    "Хранимые процедуры — это набор команд SQL, которые сохраняются в базе данных и выполняются по вызову. Они полезны для выполнения сложных операций, таких как обновление данных или выполнение транзакций. Например, можно создать процедуру для обновления email пользователя, которая будет вызываться одной командой.\r\n",
    "\r\n",
    "2. Функции\r\n",
    "Функции похожи на процедуры, но они всегда возвращают значение. Их можно использовать в SQL-запросах. Например, функция может принимать ID пользователя и возвращать его email. Функции часто используются для вычислений или получения данных.\r\n",
    "\r\n",
    "3. Триггеры\r\n",
    "Триггеры — это автоматические действия, которые выполняются при изменении данных (например, при вставке, обновлении или удалении). Например, можно создать триггер, который будет записывать в отдельную таблицу информацию о каждом удалении пользователя.\r\n",
    "\r\n",
    "4. Курсоры\r\n",
    "Курсоры позволяют обрабатывать данные построчно. Они полезны, когда нужно работать с большими наборами данных, которые нельзя обработать сразу. Например, можно использовать курсор для поочередной обработки каждой записи в таблице пользователей.\r\n",
    "\r\n",
    "5. Управляющие инструменты SQL\r\n",
    "Это конструкции для управления логикой выполнения кода, такие как условия (IF), циклы (FOR, WHILE) и обработка ошибок (EXCEPTION). Например, с помощью IF можно проверить условие и выполнить разные действия в зависимости от резу:льтата.\r\n",
    "\r\n",
    "Итог\r\n",
    "Процедуры и функции помогают инкапсулировать логику.\r\n",
    "\r\n",
    "Триггеры автоматизируют задачи при изменении данных.\r\n",
    "\r\n",
    "Курсоры позволяют работать с данными построчно.\r\n",
    "\r\n",
    "Управляющие инструменты добавляют гибкость в обработку данных."
   ]
  },
  {
   "cell_type": "code",
   "execution_count": null,
   "id": "c3e82d32-354c-48ba-b1d2-0385fe72ee1b",
   "metadata": {},
   "outputs": [],
   "source": [
    "CREATE OR REPLACE PROCEDURE add_user(name TEXT) \n",
    "LANGUAGE plpgsql\n",
    "AS $$\n",
    "BEGIN\n",
    "    INSERT INTO users (username) VALUES (name);\n",
    "END;\n",
    "$$;\n",
    "\n",
    "CALL add_user('Alice');"
   ]
  },
  {
   "cell_type": "markdown",
   "id": "d68d9281-9f0c-43b8-b0c7-5f26fb57be1d",
   "metadata": {},
   "source": [
    "Хранимые процедуры. Что делает: Добавляет пользователя с именем Alice в таблицу users."
   ]
  },
  {
   "cell_type": "code",
   "execution_count": null,
   "id": "dcd1ff46-6d79-48ee-ac46-a7944b6ed3e7",
   "metadata": {},
   "outputs": [],
   "source": [
    "CREATE OR REPLACE FUNCTION get_user_count() \n",
    "RETURNS INT\n",
    "LANGUAGE plpgsql\n",
    "AS $$\n",
    "BEGIN\n",
    "    RETURN (SELECT COUNT(*) FROM users);\n",
    "END;\n",
    "$$;\n",
    "\n",
    "SELECT get_user_count();"
   ]
  },
  {
   "cell_type": "markdown",
   "id": "9b69db65-562f-47ad-9ca6-06ff6d19ba4c",
   "metadata": {},
   "source": [
    "Функции. Что делает: Возвращает количество пользователей в таблице users."
   ]
  },
  {
   "cell_type": "code",
   "execution_count": null,
   "id": "1defeac1-c19c-431b-8335-c8415bc36156",
   "metadata": {},
   "outputs": [],
   "source": [
    "CREATE OR REPLACE FUNCTION log_changes() \n",
    "RETURNS TRIGGER\n",
    "LANGUAGE plpgsql\n",
    "AS $$\n",
    "BEGIN\n",
    "    RAISE NOTICE 'Изменение в таблице users';\n",
    "    RETURN NEW;\n",
    "END;\n",
    "$$;\n",
    "\n",
    "CREATE TRIGGER users_trigger\n",
    "AFTER INSERT ON users\n",
    "FOR EACH ROW\n",
    "EXECUTE FUNCTION log_changes();"
   ]
  },
  {
   "cell_type": "markdown",
   "id": "56b2eec2-6483-4e49-8fe0-78aeb784c954",
   "metadata": {},
   "source": [
    "Триггеры. Что делает: При вставке новой записи в таблицу users выводит уведомление."
   ]
  },
  {
   "cell_type": "code",
   "execution_count": null,
   "id": "cb868ee2-8ed5-4834-aa88-727732c24034",
   "metadata": {},
   "outputs": [],
   "source": [
    "DO $$\n",
    "DECLARE\n",
    "    user_name TEXT;\n",
    "    user_cursor CURSOR FOR SELECT username FROM users;\n",
    "BEGIN\n",
    "    OPEN user_cursor;\n",
    "    FETCH user_cursor INTO user_name;\n",
    "    RAISE NOTICE 'Первый пользователь: %', user_name;\n",
    "    CLOSE user_cursor;\n",
    "END;\n",
    "$$;"
   ]
  },
  {
   "cell_type": "markdown",
   "id": "bbf69ebb-9d1b-4352-92eb-98f897e94f2c",
   "metadata": {},
   "source": [
    "Курсоры. Что делает: Выводит имя первого пользователя из таблицы users."
   ]
  },
  {
   "cell_type": "code",
   "execution_count": null,
   "id": "456b79b6-4fb3-46c5-b7a0-762557562f69",
   "metadata": {},
   "outputs": [],
   "source": [
    "DO $$\n",
    "BEGIN\n",
    "    IF (SELECT COUNT(*) FROM users) > 0 THEN\n",
    "        RAISE NOTICE 'Пользователи есть';\n",
    "    ELSE\n",
    "        RAISE NOTICE 'Пользователей нет';\n",
    "    END IF;\n",
    "END;\n",
    "$$;"
   ]
  },
  {
   "cell_type": "markdown",
   "id": "19334251-01a9-41ce-b9d0-1016890fd268",
   "metadata": {},
   "source": [
    "Управляющие инструменты SQL\n",
    "Условие (IF). Что делает: Проверяет, есть ли пользователи в таблице, и выводит сообщение."
   ]
  },
  {
   "cell_type": "code",
   "execution_count": null,
   "id": "fb1c0916-ae95-4072-8058-b855066144ec",
   "metadata": {},
   "outputs": [],
   "source": [
    "DO $$\n",
    "BEGIN\n",
    "    FOR i IN 1..3 LOOP\n",
    "        RAISE NOTICE 'Итерация: %', i;\n",
    "    END LOOP;\n",
    "END;\n",
    "$$;"
   ]
  },
  {
   "cell_type": "code",
   "execution_count": null,
   "id": "c54397fb-4ca1-49ed-aef0-4e1d0359fde0",
   "metadata": {},
   "outputs": [],
   "source": []
  }
 ],
 "metadata": {
  "kernelspec": {
   "display_name": "Python 3 (ipykernel)",
   "language": "python",
   "name": "python3"
  },
  "language_info": {
   "codemirror_mode": {
    "name": "ipython",
    "version": 3
   },
   "file_extension": ".py",
   "mimetype": "text/x-python",
   "name": "python",
   "nbconvert_exporter": "python",
   "pygments_lexer": "ipython3",
   "version": "3.11.7"
  }
 },
 "nbformat": 4,
 "nbformat_minor": 5
}
