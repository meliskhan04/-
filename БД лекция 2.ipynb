{
 "cells": [
  {
   "cell_type": "markdown",
   "metadata": {
    "id": "JQwTPk3SRIR2"
   },
   "source": [
    "# Новый раздел"
   ]
  },
  {
   "cell_type": "markdown",
   "metadata": {
    "id": "TLjbWCvzRKza"
   },
   "source": [
    "1. Схема данных\n",
    "Схема данных — это структура базы данных, которая описывает, как данные организованы и связаны между собой. Она включает:\n",
    "\n",
    "Таблицы.\n",
    "\n",
    "Столбцы и их типы данных.\n",
    "\n",
    "Связи между таблицами (первичные и внешние ключи).\n",
    "\n",
    "Ограничения (например, уникальность, проверки).\n",
    "\n",
    "Схема данных определяет \"скелет\" базы данных, на основе которого строятся запросы и операции."
   ]
  },
  {
   "cell_type": "markdown",
   "metadata": {
    "id": "kpTBKLuaRPIn"
   },
   "source": [
    "2. Первичный ключ (Primary Key)\n",
    "Первичный ключ — это столбец (или набор столбцов), который уникально идентифицирует каждую запись в таблице. Его особенности:\n",
    "\n",
    "Значение первичного ключа должно быть уникальным.\n",
    "\n",
    "Не может содержать NULL.\n",
    "\n",
    "Используется для создания связей между таблицами.\n",
    "\n",
    "Пример:"
   ]
  },
  {
   "cell_type": "code",
   "execution_count": null,
   "metadata": {
    "id": "tOU_Ew4FRM7O"
   },
   "outputs": [],
   "source": [
    "CREATE TABLE Students (\n",
    "    student_id INT PRIMARY KEY,\n",
    "    name VARCHAR(100),\n",
    "    age INT\n",
    ");"
   ]
  },
  {
   "cell_type": "markdown",
   "metadata": {
    "id": "UcAeWEosRTSt"
   },
   "source": [
    "Здесь student_id — первичный ключ.\n",
    "\n"
   ]
  },
  {
   "cell_type": "markdown",
   "metadata": {
    "id": "gu_w4nXqRV2v"
   },
   "source": [
    "3. Внешний ключ (Foreign Key)\n",
    "Внешний ключ — это столбец (или набор столбцов), который ссылается на первичный ключ другой таблицы. Он используется для создания связей между таблицами и обеспечения целостности данных.\n",
    "\n",
    "Пример:"
   ]
  },
  {
   "cell_type": "code",
   "execution_count": null,
   "metadata": {
    "id": "qfPsknPRRTxd"
   },
   "outputs": [],
   "source": [
    "CREATE TABLE Enrollments (\n",
    "    enrollment_id INT PRIMARY KEY,\n",
    "    student_id INT,\n",
    "    course_id INT,\n",
    "    FOREIGN KEY (student_id) REFERENCES Students(student_id),\n",
    "    FOREIGN KEY (course_id) REFERENCES Courses(course_id)\n",
    ");"
   ]
  },
  {
   "cell_type": "markdown",
   "metadata": {
    "id": "QCb-3OgKRZVQ"
   },
   "source": [
    "Здесь student_id и course_id — внешние ключи, которые ссылаются на таблицы Students и Courses."
   ]
  },
  {
   "cell_type": "markdown",
   "metadata": {
    "id": "aH7UrSNGRbFE"
   },
   "source": [
    "4. Оператор JOIN\n",
    "Оператор JOIN используется для объединения данных из двух или более таблиц на основе связанных столбцов. Основные типы JOIN:\n",
    "\n",
    "INNER JOIN: возвращает только те строки, которые имеют совпадения в обеих таблицах.\n",
    "\n",
    "LEFT JOIN: возвращает все строки из левой таблицы и совпадающие строки из правой таблицы. Если совпадений нет, возвращает NULL для правой таблицы.\n",
    "\n",
    "RIGHT JOIN: возвращает все строки из правой таблицы и совпадающие строки из левой таблицы. Если совпадений нет, возвращает NULL для левой таблицы.\n",
    "\n",
    "FULL JOIN: возвращает все строки из обеих таблиц. Если совпадений нет, возвращает NULL для недостающих данных.\n",
    "\n",
    "Пример INNER JOIN:"
   ]
  },
  {
   "cell_type": "code",
   "execution_count": null,
   "metadata": {
    "id": "-fwlEl_wRcwF"
   },
   "outputs": [],
   "source": [
    "SELECT Students.name, Enrollments.course_id\n",
    "FROM Students\n",
    "INNER JOIN Enrollments ON Students.student_id = Enrollments.student_id;"
   ]
  },
  {
   "cell_type": "markdown",
   "metadata": {
    "id": "RZ7wREL3RiW-"
   },
   "source": [
    "5. Оператор GROUP BY\n",
    "Оператор GROUP BY используется для группировки строк по одному или нескольким столбцам. Обычно применяется с агрегатными функциями, такими как COUNT, SUM, AVG, MIN, MAX.\n",
    "\n",
    "Пример:"
   ]
  },
  {
   "cell_type": "code",
   "execution_count": null,
   "metadata": {
    "id": "lnbosSHrRjv8"
   },
   "outputs": [],
   "source": [
    "SELECT department, COUNT(*) AS employee_count\n",
    "FROM Employees\n",
    "GROUP BY department;"
   ]
  },
  {
   "cell_type": "markdown",
   "metadata": {
    "id": "NJrJ6zVURlra"
   },
   "source": [
    "Этот запрос подсчитывает количество сотрудников в каждом отделе.\n",
    "\n",
    "6. Оператор ORDER BY (Sort By)\n",
    "Оператор ORDER BY используется для сортировки результатов запроса по одному или нескольким столбцам. По умолчанию сортировка выполняется по возрастанию (ASC), но можно указать сортировку по убыванию (DESC).\n",
    "\n",
    "Пример:"
   ]
  },
  {
   "cell_type": "code",
   "execution_count": null,
   "metadata": {
    "id": "6-IfUf5GRnI2"
   },
   "outputs": [],
   "source": [
    "SELECT name, age\n",
    "FROM Students\n",
    "ORDER BY age DESC;"
   ]
  },
  {
   "cell_type": "markdown",
   "metadata": {
    "id": "euY86-fDRpXh"
   },
   "source": [
    "Этот запрос возвращает студентов, отсортированных по возрасту в порядке убывания.\n",
    "\n",
    "7. Оператор HAVING\n",
    "Оператор HAVING используется для фильтрации результатов группировки (после GROUP BY). В отличие от WHERE, который фильтрует строки до группировки, HAVING работает с агрегированными данными.\n",
    "\n",
    "Пример:"
   ]
  },
  {
   "cell_type": "code",
   "execution_count": null,
   "metadata": {
    "id": "GunHsUQPRrAk"
   },
   "outputs": [],
   "source": [
    "SELECT department, COUNT(*) AS employee_count\n",
    "FROM Employees\n",
    "GROUP BY department\n",
    "HAVING COUNT(*) > 5;"
   ]
  },
  {
   "cell_type": "markdown",
   "metadata": {
    "id": "34D2TbcRRvuI"
   },
   "source": [
    "Этот запрос возвращает только те отделы, где количество сотрудников больше 5.\n",
    "\n",
    "Пример комплексного запроса"
   ]
  },
  {
   "cell_type": "code",
   "execution_count": null,
   "metadata": {
    "id": "KZWrtDiCRx3-"
   },
   "outputs": [],
   "source": [
    "SELECT Students.name, COUNT(Enrollments.course_id) AS courses_enrolled\n",
    "FROM Students\n",
    "LEFT JOIN Enrollments ON Students.student_id = Enrollments.student_id\n",
    "GROUP BY Students.name\n",
    "HAVING COUNT(Enrollments.course_id) > 2\n",
    "ORDER BY courses_enrolled DESC;"
   ]
  },
  {
   "cell_type": "markdown",
   "metadata": {
    "id": "_WNDHsQ1Rypg"
   },
   "source": [
    "Этот запрос:\n",
    "\n",
    "Объединяет таблицы Students и Enrollments с помощью LEFT JOIN.\n",
    "\n",
    "Группирует данные по именам студентов.\n",
    "\n",
    "Фильтрует результаты, оставляя только тех студентов, кто записан более чем на 2 курса (HAVING).\n",
    "\n",
    "Сортирует результаты по количеству курсов в порядке убывания (ORDER BY).\n",
    "\n",
    "Эти понятия и операторы являются основой для работы с реляционными базами данных и позволяют эффективно извлекать и анализировать данные."
   ]
  }
 ],
 "metadata": {
  "colab": {
   "provenance": [],
   "toc_visible": true
  },
  "kernelspec": {
   "display_name": "Python 3 (ipykernel)",
   "language": "python",
   "name": "python3"
  },
  "language_info": {
   "codemirror_mode": {
    "name": "ipython",
    "version": 3
   },
   "file_extension": ".py",
   "mimetype": "text/x-python",
   "name": "python",
   "nbconvert_exporter": "python",
   "pygments_lexer": "ipython3",
   "version": "3.11.7"
  }
 },
 "nbformat": 4,
 "nbformat_minor": 4
}
